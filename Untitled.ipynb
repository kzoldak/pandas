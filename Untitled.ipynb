{
 "cells": [
  {
   "cell_type": "code",
   "execution_count": 6,
   "metadata": {},
   "outputs": [],
   "source": [
    "import numpy as np\n",
    "import pandas as pd \n",
    "\n",
    "%matplotlib inline"
   ]
  },
  {
   "cell_type": "code",
   "execution_count": 7,
   "metadata": {},
   "outputs": [
    {
     "data": {
      "text/html": [
       "<div>\n",
       "<style scoped>\n",
       "    .dataframe tbody tr th:only-of-type {\n",
       "        vertical-align: middle;\n",
       "    }\n",
       "\n",
       "    .dataframe tbody tr th {\n",
       "        vertical-align: top;\n",
       "    }\n",
       "\n",
       "    .dataframe thead th {\n",
       "        text-align: right;\n",
       "    }\n",
       "</style>\n",
       "<table border=\"1\" class=\"dataframe\">\n",
       "  <thead>\n",
       "    <tr style=\"text-align: right;\">\n",
       "      <th></th>\n",
       "      <th>prob</th>\n",
       "      <th>cstat</th>\n",
       "      <th>alpha</th>\n",
       "      <th>beta</th>\n",
       "      <th>enaught</th>\n",
       "      <th>norm</th>\n",
       "    </tr>\n",
       "  </thead>\n",
       "  <tbody>\n",
       "    <tr>\n",
       "      <th>0</th>\n",
       "      <td>1.464804e-99</td>\n",
       "      <td>774.965035</td>\n",
       "      <td>-1.094847</td>\n",
       "      <td>-2.334929</td>\n",
       "      <td>607.719256</td>\n",
       "      <td>-1.724910</td>\n",
       "    </tr>\n",
       "    <tr>\n",
       "      <th>1</th>\n",
       "      <td>1.551436e-99</td>\n",
       "      <td>774.847617</td>\n",
       "      <td>-1.251852</td>\n",
       "      <td>-2.282142</td>\n",
       "      <td>1739.260013</td>\n",
       "      <td>-1.814916</td>\n",
       "    </tr>\n",
       "    <tr>\n",
       "      <th>2</th>\n",
       "      <td>1.600356e-99</td>\n",
       "      <td>774.783027</td>\n",
       "      <td>-1.222781</td>\n",
       "      <td>-2.692320</td>\n",
       "      <td>2722.137812</td>\n",
       "      <td>-1.883588</td>\n",
       "    </tr>\n",
       "    <tr>\n",
       "      <th>3</th>\n",
       "      <td>1.622601e-99</td>\n",
       "      <td>774.752918</td>\n",
       "      <td>-1.328367</td>\n",
       "      <td>-2.237835</td>\n",
       "      <td>1735.107763</td>\n",
       "      <td>-1.885350</td>\n",
       "    </tr>\n",
       "    <tr>\n",
       "      <th>4</th>\n",
       "      <td>1.778115e-99</td>\n",
       "      <td>774.567371</td>\n",
       "      <td>-1.174649</td>\n",
       "      <td>-2.390003</td>\n",
       "      <td>880.591390</td>\n",
       "      <td>-1.775047</td>\n",
       "    </tr>\n",
       "  </tbody>\n",
       "</table>\n",
       "</div>"
      ],
      "text/plain": [
       "           prob       cstat     alpha      beta      enaught      norm\n",
       "0  1.464804e-99  774.965035 -1.094847 -2.334929   607.719256 -1.724910\n",
       "1  1.551436e-99  774.847617 -1.251852 -2.282142  1739.260013 -1.814916\n",
       "2  1.600356e-99  774.783027 -1.222781 -2.692320  2722.137812 -1.883588\n",
       "3  1.622601e-99  774.752918 -1.328367 -2.237835  1735.107763 -1.885350\n",
       "4  1.778115e-99  774.567371 -1.174649 -2.390003   880.591390 -1.775047"
      ]
     },
     "execution_count": 7,
     "metadata": {},
     "output_type": "execute_result"
    }
   ],
   "source": [
    "f = 'data/grbm_-01-_L_.txt'\n",
    "\n",
    "# Read a table of fixed-width formatted lines into DataFrame\n",
    "# SKIP FIRST 4 ROWS. \n",
    "\n",
    "data = pd.read_fwf(f, header=0, skiprows=4)\n",
    "\n",
    "data.head()"
   ]
  },
  {
   "cell_type": "code",
   "execution_count": 8,
   "metadata": {},
   "outputs": [
    {
     "data": {
      "text/html": [
       "<div>\n",
       "<style scoped>\n",
       "    .dataframe tbody tr th:only-of-type {\n",
       "        vertical-align: middle;\n",
       "    }\n",
       "\n",
       "    .dataframe tbody tr th {\n",
       "        vertical-align: top;\n",
       "    }\n",
       "\n",
       "    .dataframe thead th {\n",
       "        text-align: right;\n",
       "    }\n",
       "</style>\n",
       "<table border=\"1\" class=\"dataframe\">\n",
       "  <thead>\n",
       "    <tr style=\"text-align: right;\">\n",
       "      <th></th>\n",
       "      <th>prob</th>\n",
       "      <th>cstat</th>\n",
       "      <th>alpha</th>\n",
       "      <th>beta</th>\n",
       "      <th>epeak</th>\n",
       "      <th>norm</th>\n",
       "    </tr>\n",
       "  </thead>\n",
       "  <tbody>\n",
       "    <tr>\n",
       "      <th>0</th>\n",
       "      <td>1.464804e-99</td>\n",
       "      <td>774.965035</td>\n",
       "      <td>-1.094847</td>\n",
       "      <td>-2.334929</td>\n",
       "      <td>550.078935</td>\n",
       "      <td>-1.724910</td>\n",
       "    </tr>\n",
       "    <tr>\n",
       "      <th>1</th>\n",
       "      <td>1.551436e-99</td>\n",
       "      <td>774.847617</td>\n",
       "      <td>-1.251852</td>\n",
       "      <td>-2.282142</td>\n",
       "      <td>1301.223931</td>\n",
       "      <td>-1.814916</td>\n",
       "    </tr>\n",
       "    <tr>\n",
       "      <th>2</th>\n",
       "      <td>1.600356e-99</td>\n",
       "      <td>774.783027</td>\n",
       "      <td>-1.222781</td>\n",
       "      <td>-2.692320</td>\n",
       "      <td>2115.696039</td>\n",
       "      <td>-1.883588</td>\n",
       "    </tr>\n",
       "    <tr>\n",
       "      <th>3</th>\n",
       "      <td>1.622601e-99</td>\n",
       "      <td>774.752918</td>\n",
       "      <td>-1.328367</td>\n",
       "      <td>-2.237835</td>\n",
       "      <td>1165.356094</td>\n",
       "      <td>-1.885350</td>\n",
       "    </tr>\n",
       "    <tr>\n",
       "      <th>4</th>\n",
       "      <td>1.778115e-99</td>\n",
       "      <td>774.567371</td>\n",
       "      <td>-1.174649</td>\n",
       "      <td>-2.390003</td>\n",
       "      <td>726.796834</td>\n",
       "      <td>-1.775047</td>\n",
       "    </tr>\n",
       "  </tbody>\n",
       "</table>\n",
       "</div>"
      ],
      "text/plain": [
       "           prob       cstat     alpha      beta        epeak      norm\n",
       "0  1.464804e-99  774.965035 -1.094847 -2.334929   550.078935 -1.724910\n",
       "1  1.551436e-99  774.847617 -1.251852 -2.282142  1301.223931 -1.814916\n",
       "2  1.600356e-99  774.783027 -1.222781 -2.692320  2115.696039 -1.883588\n",
       "3  1.622601e-99  774.752918 -1.328367 -2.237835  1165.356094 -1.885350\n",
       "4  1.778115e-99  774.567371 -1.174649 -2.390003   726.796834 -1.775047"
      ]
     },
     "execution_count": 8,
     "metadata": {},
     "output_type": "execute_result"
    }
   ],
   "source": [
    "# replace 'enaught' with epeak values\n",
    "data.loc[:, 'enaught'] = data.enaught*(data.alpha + 2.0)  # epeak = E0*(alpha+2.0)\n",
    "\n",
    "# rename the column to 'epeak'\n",
    "data.columns = data.columns.str.replace('enaught', 'epeak')\n",
    "data.head()"
   ]
  },
  {
   "cell_type": "code",
   "execution_count": 9,
   "metadata": {},
   "outputs": [
    {
     "data": {
      "text/plain": [
       "array([[<matplotlib.axes._subplots.AxesSubplot object at 0x121c53ef0>,\n",
       "        <matplotlib.axes._subplots.AxesSubplot object at 0x120b9e710>],\n",
       "       [<matplotlib.axes._subplots.AxesSubplot object at 0x121bbfc88>,\n",
       "        <matplotlib.axes._subplots.AxesSubplot object at 0x121b73240>],\n",
       "       [<matplotlib.axes._subplots.AxesSubplot object at 0x121c007b8>,\n",
       "        <matplotlib.axes._subplots.AxesSubplot object at 0x121b22d30>]],\n",
       "      dtype=object)"
      ]
     },
     "execution_count": 9,
     "metadata": {},
     "output_type": "execute_result"
    },
    {
     "data": {
      "image/png": "[encoded data removed]",
      "text/plain": [
       "<Figure size 792x648 with 6 Axes>"
      ]
     },
     "metadata": {
      "needs_background": "light"
     },
     "output_type": "display_data"
    }
   ],
   "source": [
    "# HISTOGRAM - can do all at once.\n",
    "\n",
    "data.hist(bins=100, figsize=(11,9))"
   ]
  },
  {
   "cell_type": "code",
   "execution_count": 10,
   "metadata": {},
   "outputs": [
    {
     "data": {
      "text/plain": [
       "<matplotlib.axes._subplots.AxesSubplot at 0x11d933198>"
      ]
     },
     "execution_count": 10,
     "metadata": {},
     "output_type": "execute_result"
    },
    {
     "data": {
      "image/png": "[encoded data removed]",
      "text/plain": [
       "<Figure size 432x288 with 2 Axes>"
      ]
     },
     "metadata": {
      "needs_background": "light"
     },
     "output_type": "display_data"
    }
   ],
   "source": [
    "# HEXBIN\n",
    "\n",
    "data.plot.hexbin(x='alpha',y='beta', bins='log', gridsize=25)"
   ]
  },
  {
   "cell_type": "code",
   "execution_count": 16,
   "metadata": {},
   "outputs": [
    {
     "data": {
      "text/html": [
       "<div>\n",
       "<style scoped>\n",
       "    .dataframe tbody tr th:only-of-type {\n",
       "        vertical-align: middle;\n",
       "    }\n",
       "\n",
       "    .dataframe tbody tr th {\n",
       "        vertical-align: top;\n",
       "    }\n",
       "\n",
       "    .dataframe thead th {\n",
       "        text-align: right;\n",
       "    }\n",
       "</style>\n",
       "<table border=\"1\" class=\"dataframe\">\n",
       "  <thead>\n",
       "    <tr style=\"text-align: right;\">\n",
       "      <th></th>\n",
       "      <th>Type A</th>\n",
       "      <th>Type B</th>\n",
       "    </tr>\n",
       "  </thead>\n",
       "  <tbody>\n",
       "    <tr>\n",
       "      <th>Index 1</th>\n",
       "      <td>1</td>\n",
       "      <td>2</td>\n",
       "    </tr>\n",
       "    <tr>\n",
       "      <th>Index 2</th>\n",
       "      <td>2</td>\n",
       "      <td>5</td>\n",
       "    </tr>\n",
       "  </tbody>\n",
       "</table>\n",
       "</div>"
      ],
      "text/plain": [
       "         Type A  Type B\n",
       "Index 1       1       2\n",
       "Index 2       2       5"
      ]
     },
     "execution_count": 16,
     "metadata": {},
     "output_type": "execute_result"
    }
   ],
   "source": [
    "values = [[1, 2], [2, 5]]\n",
    "df = pd.DataFrame(values, columns=['Type A', 'Type B'], \n",
    "                  index=['Index 1', 'Index 2'])\n",
    "df.head()"
   ]
  },
  {
   "cell_type": "code",
   "execution_count": 17,
   "metadata": {},
   "outputs": [],
   "source": [
    "df.columns.name = 'Type'\n",
    "\n",
    "df.index.name = 'Index'"
   ]
  },
  {
   "cell_type": "code",
   "execution_count": 18,
   "metadata": {},
   "outputs": [
    {
     "data": {
      "text/html": [
       "<div>\n",
       "<style scoped>\n",
       "    .dataframe tbody tr th:only-of-type {\n",
       "        vertical-align: middle;\n",
       "    }\n",
       "\n",
       "    .dataframe tbody tr th {\n",
       "        vertical-align: top;\n",
       "    }\n",
       "\n",
       "    .dataframe thead th {\n",
       "        text-align: right;\n",
       "    }\n",
       "</style>\n",
       "<table border=\"1\" class=\"dataframe\">\n",
       "  <thead>\n",
       "    <tr style=\"text-align: right;\">\n",
       "      <th>Type</th>\n",
       "      <th>Type A</th>\n",
       "      <th>Type B</th>\n",
       "    </tr>\n",
       "    <tr>\n",
       "      <th>Index</th>\n",
       "      <th></th>\n",
       "      <th></th>\n",
       "    </tr>\n",
       "  </thead>\n",
       "  <tbody>\n",
       "    <tr>\n",
       "      <th>Index 1</th>\n",
       "      <td>1</td>\n",
       "      <td>2</td>\n",
       "    </tr>\n",
       "    <tr>\n",
       "      <th>Index 2</th>\n",
       "      <td>2</td>\n",
       "      <td>5</td>\n",
       "    </tr>\n",
       "  </tbody>\n",
       "</table>\n",
       "</div>"
      ],
      "text/plain": [
       "Type     Type A  Type B\n",
       "Index                  \n",
       "Index 1       1       2\n",
       "Index 2       2       5"
      ]
     },
     "execution_count": 18,
     "metadata": {},
     "output_type": "execute_result"
    }
   ],
   "source": [
    "df.head()"
   ]
  },
  {
   "cell_type": "code",
   "execution_count": 19,
   "metadata": {},
   "outputs": [
    {
     "data": {
      "text/plain": [
       "<matplotlib.axes._subplots.AxesSubplot at 0x1224530b8>"
      ]
     },
     "execution_count": 19,
     "metadata": {},
     "output_type": "execute_result"
    },
    {
     "data": {
      "image/png": "[encoded data removed]",
      "text/plain": [
       "<Figure size 432x288 with 1 Axes>"
      ]
     },
     "metadata": {
      "needs_background": "light"
     },
     "output_type": "display_data"
    }
   ],
   "source": [
    "df.plot(lw=2, colormap='jet', marker='.', markersize=10, \n",
    "        title='Video streaming dropout by category')"
   ]
  },
  {
   "cell_type": "code",
   "execution_count": 20,
   "metadata": {},
   "outputs": [
    {
     "data": {
      "text/html": [
       "<div>\n",
       "<style scoped>\n",
       "    .dataframe tbody tr th:only-of-type {\n",
       "        vertical-align: middle;\n",
       "    }\n",
       "\n",
       "    .dataframe tbody tr th {\n",
       "        vertical-align: top;\n",
       "    }\n",
       "\n",
       "    .dataframe thead th {\n",
       "        text-align: right;\n",
       "    }\n",
       "</style>\n",
       "<table border=\"1\" class=\"dataframe\">\n",
       "  <thead>\n",
       "    <tr style=\"text-align: right;\">\n",
       "      <th></th>\n",
       "      <th>prob</th>\n",
       "      <th>cstat</th>\n",
       "      <th>alpha</th>\n",
       "      <th>beta</th>\n",
       "      <th>epeak</th>\n",
       "      <th>norm</th>\n",
       "    </tr>\n",
       "  </thead>\n",
       "  <tbody>\n",
       "    <tr>\n",
       "      <th>0</th>\n",
       "      <td>1.464804e-99</td>\n",
       "      <td>774.965035</td>\n",
       "      <td>-1.094847</td>\n",
       "      <td>-2.334929</td>\n",
       "      <td>550.078935</td>\n",
       "      <td>-1.724910</td>\n",
       "    </tr>\n",
       "    <tr>\n",
       "      <th>1</th>\n",
       "      <td>1.551436e-99</td>\n",
       "      <td>774.847617</td>\n",
       "      <td>-1.251852</td>\n",
       "      <td>-2.282142</td>\n",
       "      <td>1301.223931</td>\n",
       "      <td>-1.814916</td>\n",
       "    </tr>\n",
       "    <tr>\n",
       "      <th>2</th>\n",
       "      <td>1.600356e-99</td>\n",
       "      <td>774.783027</td>\n",
       "      <td>-1.222781</td>\n",
       "      <td>-2.692320</td>\n",
       "      <td>2115.696039</td>\n",
       "      <td>-1.883588</td>\n",
       "    </tr>\n",
       "    <tr>\n",
       "      <th>3</th>\n",
       "      <td>1.622601e-99</td>\n",
       "      <td>774.752918</td>\n",
       "      <td>-1.328367</td>\n",
       "      <td>-2.237835</td>\n",
       "      <td>1165.356094</td>\n",
       "      <td>-1.885350</td>\n",
       "    </tr>\n",
       "    <tr>\n",
       "      <th>4</th>\n",
       "      <td>1.778115e-99</td>\n",
       "      <td>774.567371</td>\n",
       "      <td>-1.174649</td>\n",
       "      <td>-2.390003</td>\n",
       "      <td>726.796834</td>\n",
       "      <td>-1.775047</td>\n",
       "    </tr>\n",
       "  </tbody>\n",
       "</table>\n",
       "</div>"
      ],
      "text/plain": [
       "           prob       cstat     alpha      beta        epeak      norm\n",
       "0  1.464804e-99  774.965035 -1.094847 -2.334929   550.078935 -1.724910\n",
       "1  1.551436e-99  774.847617 -1.251852 -2.282142  1301.223931 -1.814916\n",
       "2  1.600356e-99  774.783027 -1.222781 -2.692320  2115.696039 -1.883588\n",
       "3  1.622601e-99  774.752918 -1.328367 -2.237835  1165.356094 -1.885350\n",
       "4  1.778115e-99  774.567371 -1.174649 -2.390003   726.796834 -1.775047"
      ]
     },
     "execution_count": 20,
     "metadata": {},
     "output_type": "execute_result"
    }
   ],
   "source": [
    "data.head()"
   ]
  },
  {
   "cell_type": "code",
   "execution_count": 23,
   "metadata": {},
   "outputs": [],
   "source": [
    "data.columns.name = 'Parameters'\n",
    "data.index.name = 'Index'"
   ]
  },
  {
   "cell_type": "code",
   "execution_count": 24,
   "metadata": {},
   "outputs": [
    {
     "data": {
      "text/html": [
       "<div>\n",
       "<style scoped>\n",
       "    .dataframe tbody tr th:only-of-type {\n",
       "        vertical-align: middle;\n",
       "    }\n",
       "\n",
       "    .dataframe tbody tr th {\n",
       "        vertical-align: top;\n",
       "    }\n",
       "\n",
       "    .dataframe thead th {\n",
       "        text-align: right;\n",
       "    }\n",
       "</style>\n",
       "<table border=\"1\" class=\"dataframe\">\n",
       "  <thead>\n",
       "    <tr style=\"text-align: right;\">\n",
       "      <th>Parameters</th>\n",
       "      <th>prob</th>\n",
       "      <th>cstat</th>\n",
       "      <th>alpha</th>\n",
       "      <th>beta</th>\n",
       "      <th>epeak</th>\n",
       "      <th>norm</th>\n",
       "    </tr>\n",
       "    <tr>\n",
       "      <th>Index</th>\n",
       "      <th></th>\n",
       "      <th></th>\n",
       "      <th></th>\n",
       "      <th></th>\n",
       "      <th></th>\n",
       "      <th></th>\n",
       "    </tr>\n",
       "  </thead>\n",
       "  <tbody>\n",
       "    <tr>\n",
       "      <th>0</th>\n",
       "      <td>1.464804e-99</td>\n",
       "      <td>774.965035</td>\n",
       "      <td>-1.094847</td>\n",
       "      <td>-2.334929</td>\n",
       "      <td>550.078935</td>\n",
       "      <td>-1.724910</td>\n",
       "    </tr>\n",
       "    <tr>\n",
       "      <th>1</th>\n",
       "      <td>1.551436e-99</td>\n",
       "      <td>774.847617</td>\n",
       "      <td>-1.251852</td>\n",
       "      <td>-2.282142</td>\n",
       "      <td>1301.223931</td>\n",
       "      <td>-1.814916</td>\n",
       "    </tr>\n",
       "    <tr>\n",
       "      <th>2</th>\n",
       "      <td>1.600356e-99</td>\n",
       "      <td>774.783027</td>\n",
       "      <td>-1.222781</td>\n",
       "      <td>-2.692320</td>\n",
       "      <td>2115.696039</td>\n",
       "      <td>-1.883588</td>\n",
       "    </tr>\n",
       "    <tr>\n",
       "      <th>3</th>\n",
       "      <td>1.622601e-99</td>\n",
       "      <td>774.752918</td>\n",
       "      <td>-1.328367</td>\n",
       "      <td>-2.237835</td>\n",
       "      <td>1165.356094</td>\n",
       "      <td>-1.885350</td>\n",
       "    </tr>\n",
       "    <tr>\n",
       "      <th>4</th>\n",
       "      <td>1.778115e-99</td>\n",
       "      <td>774.567371</td>\n",
       "      <td>-1.174649</td>\n",
       "      <td>-2.390003</td>\n",
       "      <td>726.796834</td>\n",
       "      <td>-1.775047</td>\n",
       "    </tr>\n",
       "  </tbody>\n",
       "</table>\n",
       "</div>"
      ],
      "text/plain": [
       "Parameters          prob       cstat     alpha      beta        epeak  \\\n",
       "Index                                                                   \n",
       "0           1.464804e-99  774.965035 -1.094847 -2.334929   550.078935   \n",
       "1           1.551436e-99  774.847617 -1.251852 -2.282142  1301.223931   \n",
       "2           1.600356e-99  774.783027 -1.222781 -2.692320  2115.696039   \n",
       "3           1.622601e-99  774.752918 -1.328367 -2.237835  1165.356094   \n",
       "4           1.778115e-99  774.567371 -1.174649 -2.390003   726.796834   \n",
       "\n",
       "Parameters      norm  \n",
       "Index                 \n",
       "0          -1.724910  \n",
       "1          -1.814916  \n",
       "2          -1.883588  \n",
       "3          -1.885350  \n",
       "4          -1.775047  "
      ]
     },
     "execution_count": 24,
     "metadata": {},
     "output_type": "execute_result"
    }
   ],
   "source": [
    "data.head()"
   ]
  },
  {
   "cell_type": "code",
   "execution_count": 25,
   "metadata": {},
   "outputs": [
    {
     "data": {
      "text/plain": [
       "<matplotlib.axes._subplots.AxesSubplot at 0x1226966a0>"
      ]
     },
     "execution_count": 25,
     "metadata": {},
     "output_type": "execute_result"
    },
    {
     "data": {
      "image/png": "[encoded data removed]",
      "text/plain": [
       "<Figure size 432x288 with 2 Axes>"
      ]
     },
     "metadata": {
      "needs_background": "light"
     },
     "output_type": "display_data"
    }
   ],
   "source": [
    "data.plot.hexbin(x='alpha',y='beta', bins='log', gridsize=25)"
   ]
  },
  {
   "cell_type": "code",
   "execution_count": null,
   "metadata": {},
   "outputs": [],
   "source": []
  }
 ],
 "metadata": {
  "kernelspec": {
   "display_name": "Python 3",
   "language": "python",
   "name": "python3"
  },
  "language_info": {
   "codemirror_mode": {
    "name": "ipython",
    "version": 3
   },
   "file_extension": ".py",
   "mimetype": "text/x-python",
   "name": "python",
   "nbconvert_exporter": "python",
   "pygments_lexer": "ipython3",
   "version": "3.7.0"
  }
 },
 "nbformat": 4,
 "nbformat_minor": 2
}
